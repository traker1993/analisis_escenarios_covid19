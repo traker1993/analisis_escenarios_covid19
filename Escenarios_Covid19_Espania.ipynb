{
 "cells": [
  {
   "cell_type": "markdown",
   "metadata": {},
   "source": [
    "___\n",
    "# Simulación de escenarios de desescalada con el modelo SIR-D\n",
    "___\n",
    "\n",
    "\n",
    "En este notebook se realiza una simulación de desescalada por edades utilizando el modelo SIR-D para epidemias."
   ]
  },
  {
   "cell_type": "markdown",
   "metadata": {},
   "source": [
    "## Importo librerías:"
   ]
  },
  {
   "cell_type": "code",
   "execution_count": 1,
   "metadata": {},
   "outputs": [],
   "source": [
    "from funcs import *"
   ]
  },
  {
   "cell_type": "code",
   "execution_count": 2,
   "metadata": {},
   "outputs": [],
   "source": [
    "# Semilla aleatoria\n",
    "np.random.seed(2019)\n",
    "# Pandas\n",
    "pd.set_option(\"display.max_colwidth\", 1000)\n",
    "# Matplotlib\n",
    "plt.style.use(\"seaborn-ticks\")\n",
    "plt.rcParams[\"xtick.direction\"] = \"in\"\n",
    "plt.rcParams[\"ytick.direction\"] = \"in\"\n",
    "plt.rcParams[\"font.size\"] = 11.0\n",
    "plt.rcParams[\"figure.figsize\"] = (12, 6)"
   ]
  },
  {
   "cell_type": "markdown",
   "metadata": {},
   "source": [
    "# Concepto teórico: Modelo SIR-D\n",
    "Debido a que estamos midiendo el número de casos fatales y de casos recuperados por separado, podemos utilizar dos variables (\"Recuperados\" y \"Muertes\") en lugar de \"Recuperados + Muertes\" en el modelo matemático."
   ]
  },
  {
   "cell_type": "markdown",
   "metadata": {},
   "source": [
    " ### ¿Qué es el modelo SIR-D?\n",
    "* S: Susceptible\n",
    "* I: Infectado\n",
    "* R: Recuperado\n",
    "* D: Muertes\n",
    "\n",
    "Modelo:  \n",
    "\\begin{align*}\n",
    "\\mathrm{S} \\overset{\\beta  I}{\\longrightarrow}\\ & \\mathrm{I} \\overset{\\gamma}{\\longrightarrow} \\mathrm{R}  \\\\\n",
    "& \\mathrm{I} \\overset{\\alpha}{\\longrightarrow} \\mathrm{D}  \\\\\n",
    "\\end{align*}\n",
    "\n",
    "$\\alpha$: Tasa de mortalidad [1/min]  \n",
    "$\\beta$: Tasa de contacto efectiva [1/min]  \n",
    "$\\gamma$: Tasa de recuperación [1/min]  \n",
    "\n",
    "Ecuación diferencial ordinaria:\n",
    "\\begin{align*}\n",
    "& \\frac{\\mathrm{d}S}{\\mathrm{d}T}= - N^{-1}\\beta S I  \\\\\n",
    "& \\frac{\\mathrm{d}I}{\\mathrm{d}T}= N^{-1}\\beta S I - (\\gamma + \\alpha) I  \\\\\n",
    "& \\frac{\\mathrm{d}R}{\\mathrm{d}T}= \\gamma I  \\\\\n",
    "& \\frac{\\mathrm{d}D}{\\mathrm{d}T}= \\alpha I  \\\\\n",
    "\\end{align*}\n",
    "\n",
    "Donde $N=S+I+R+D$ es la población total, $T$ es el tiempo transcurrido desde la fecha de inicio."
   ]
  },
  {
   "cell_type": "markdown",
   "metadata": {},
   "source": [
    "### Modelo SIR-D no dimensional \n",
    "Set $(S, I, R, D) = N \\times (x, y, z, w)$ and $(T, \\alpha, \\beta, \\gamma) = (\\tau t, \\tau^{-1} \\kappa, \\tau^{-1} \\rho, \\tau^{-1} \\sigma)$.  \n",
    "\n",
    "Esto resulta en que las ecuaciones diferenciales son:  \n",
    "\\begin{align*}\n",
    "& \\frac{\\mathrm{d}x}{\\mathrm{d}t}= - \\rho x y  \\\\\n",
    "& \\frac{\\mathrm{d}y}{\\mathrm{d}t}= \\rho x y - (\\sigma + \\kappa) y  \\\\\n",
    "& \\frac{\\mathrm{d}z}{\\mathrm{d}t}= \\sigma y  \\\\\n",
    "& \\frac{\\mathrm{d}w}{\\mathrm{d}t}= \\kappa y  \\\\\n",
    "\\end{align*}\n",
    "\n",
    "Donde $N$ es la población total y $\\tau$ es un coeficiente ([min], es un entero para simplificar).  \n",
    "\n",
    "El rango de variables y parámetros:  \n",
    "\\begin{align*}\n",
    "& 0 \\leq (x, y, z, w, \\kappa, \\rho, \\sigma) \\leq 1  \\\\\n",
    "\\end{align*}\n",
    "\\begin{align*}\n",
    "& 1\\leq \\tau \\leq 1440  \\\\\n",
    "\\end{align*}\n",
    "\n",
    "El número de reproducción puede definirse como  \n",
    "\\begin{align*}\n",
    "R_0 = \\rho (\\sigma + \\kappa)^{-1} = \\beta (\\gamma + \\alpha)^{-1}\n",
    "\\end{align*}\n",
    "\n",
    "Valores medios estimados de $R_0$:  \n",
    "$R_0$ (\"R nada\") significa \"el número medio de infecciones secundarias causadas por un huésped infectado\".  \n",
    "2.06: Zika en América del Sur, 2015-2016  \n",
    "1,51: Ebola en Guinea, 2014  \n",
    "1,33: Gripe H1N1 en Sudáfrica, 2009  \n",
    "3.5 : El SRAS en 2002-2003  \n",
    "1,68: Gripe H2N2 en EE.UU., 1957  \n",
    "3.8 : Ola de otoño de la gripe española de 1918 en Génova  \n",
    "1.5 : Ola de primavera de 1918 de la gripe española en Génova  "
   ]
  },
  {
   "cell_type": "markdown",
   "metadata": {},
   "source": [
    "Primero de todo descargo la pirámide poblacional de España, para saber cuantas personas hay de cada edad en el país. El virus ataca más en edades avanzadas. Los datos de la pirámide poblacional se han obtenido de https://www.populationpyramid.net/es/espa%C3%B1a/2019/.\n",
    "Por otro lado, también se ha hecho uso de la tasa de mortalidad por edades obtenido de https://coronavirus-resumen.herokuapp.com/.\n",
    "\n",
    "<img src='tasa_mortalidad.png'></img>"
   ]
  },
  {
   "cell_type": "code",
   "execution_count": 3,
   "metadata": {},
   "outputs": [
    {
     "data": {
      "text/html": [
       "<div>\n",
       "<style scoped>\n",
       "    .dataframe tbody tr th:only-of-type {\n",
       "        vertical-align: middle;\n",
       "    }\n",
       "\n",
       "    .dataframe tbody tr th {\n",
       "        vertical-align: top;\n",
       "    }\n",
       "\n",
       "    .dataframe thead th {\n",
       "        text-align: right;\n",
       "    }\n",
       "</style>\n",
       "<table border=\"1\" class=\"dataframe\">\n",
       "  <thead>\n",
       "    <tr style=\"text-align: right;\">\n",
       "      <th></th>\n",
       "      <th>Edad</th>\n",
       "      <th>Hombres</th>\n",
       "      <th>Mujeres</th>\n",
       "      <th>Tasa mortalidad</th>\n",
       "    </tr>\n",
       "  </thead>\n",
       "  <tbody>\n",
       "    <tr>\n",
       "      <td>0</td>\n",
       "      <td>0-4</td>\n",
       "      <td>1038501</td>\n",
       "      <td>977680</td>\n",
       "      <td>0.05</td>\n",
       "    </tr>\n",
       "    <tr>\n",
       "      <td>1</td>\n",
       "      <td>5-9</td>\n",
       "      <td>1198575</td>\n",
       "      <td>1125661</td>\n",
       "      <td>0.05</td>\n",
       "    </tr>\n",
       "    <tr>\n",
       "      <td>2</td>\n",
       "      <td>10-14</td>\n",
       "      <td>1276540</td>\n",
       "      <td>1195708</td>\n",
       "      <td>0.20</td>\n",
       "    </tr>\n",
       "  </tbody>\n",
       "</table>\n",
       "</div>"
      ],
      "text/plain": [
       "    Edad  Hombres  Mujeres  Tasa mortalidad\n",
       "0    0-4  1038501   977680             0.05\n",
       "1    5-9  1198575  1125661             0.05\n",
       "2  10-14  1276540  1195708             0.20"
      ]
     },
     "execution_count": 3,
     "metadata": {},
     "output_type": "execute_result"
    }
   ],
   "source": [
    "edades = pd.read_csv('./data/piramide_2019.csv') \n",
    "poblacion_total = edades['Hombres'].sum() + edades['Mujeres'].sum()\n",
    "edades[:3]"
   ]
  },
  {
   "cell_type": "code",
   "execution_count": 4,
   "metadata": {},
   "outputs": [
    {
     "name": "stdout",
     "output_type": "stream",
     "text": [
      "La población total en España es de 46736782 personas\n"
     ]
    }
   ],
   "source": [
    "print(u'La población total en España es de {} personas'.format(poblacion_total))"
   ]
  },
  {
   "cell_type": "markdown",
   "metadata": {},
   "source": [
    "___\n",
    "# 1.- Desescalada con apertura total:\n",
    "___"
   ]
  },
  {
   "cell_type": "markdown",
   "metadata": {},
   "source": [
    "Por ejemplo, establece $R_0 = 2.5, \\kappa=0.005, \\rho=0.2$ y los valores iniciales $(x_{(0)}, y_{(0)}, z_{(0)}, w_{(0)}) = (0.999, 0.001, 0, 0)$."
   ]
  },
  {
   "cell_type": "code",
   "execution_count": 5,
   "metadata": {},
   "outputs": [
    {
     "data": {
      "text/markdown": [
       "$\\kappa = 0.005,\\ \\rho = 0.2,\\ \\sigma = 0.075$."
      ],
      "text/plain": [
       "<IPython.core.display.Markdown object>"
      ]
     },
     "metadata": {},
     "output_type": "display_data"
    }
   ],
   "source": [
    "#(numero reproductivo, tasa mortalidad * tau, tasa efectiva contagio * tau)\n",
    "r0, kappa, rho = (2.5, 0.005, 0.2) \n",
    "sigma = rho / r0 - kappa\n",
    "# (susceptibles, infectados, recuperados, fallecidos)\n",
    "initials = (0.999, 0.001, 0, 0) \n",
    "display(Markdown(rf\"$\\kappa = {kappa},\\ \\rho = {rho},\\ \\sigma = {sigma}$.\"))"
   ]
  },
  {
   "cell_type": "markdown",
   "metadata": {},
   "source": [
    "Suponemos que el día inicial es el 5 de Mayo de 2020. $\\tau=1440$ minutos y abrimos al total de la población $N=46.736.782$."
   ]
  },
  {
   "cell_type": "code",
   "execution_count": 6,
   "metadata": {},
   "outputs": [],
   "source": [
    "tau = 1440\n",
    "dia_inicial = datetime.datetime(2020, 5, 5)\n",
    "poblacion = poblacion_total"
   ]
  },
  {
   "cell_type": "code",
   "execution_count": 7,
   "metadata": {},
   "outputs": [
    {
     "name": "stdout",
     "output_type": "stream",
     "text": [
      "CPU times: user 12.9 ms, sys: 498 µs, total: 13.4 ms\n",
      "Wall time: 29.9 ms\n"
     ]
    },
    {
     "data": {
      "text/html": [
       "<div>\n",
       "<style scoped>\n",
       "    .dataframe tbody tr th:only-of-type {\n",
       "        vertical-align: middle;\n",
       "    }\n",
       "\n",
       "    .dataframe tbody tr th {\n",
       "        vertical-align: top;\n",
       "    }\n",
       "\n",
       "    .dataframe thead th {\n",
       "        text-align: right;\n",
       "    }\n",
       "</style>\n",
       "<table border=\"1\" class=\"dataframe\">\n",
       "  <thead>\n",
       "    <tr style=\"text-align: right;\">\n",
       "      <th></th>\n",
       "      <th>t</th>\n",
       "      <th>x</th>\n",
       "      <th>y</th>\n",
       "      <th>z</th>\n",
       "      <th>w</th>\n",
       "    </tr>\n",
       "  </thead>\n",
       "  <tbody>\n",
       "    <tr>\n",
       "      <td>196</td>\n",
       "      <td>196</td>\n",
       "      <td>0.106463</td>\n",
       "      <td>0.000205</td>\n",
       "      <td>0.837499</td>\n",
       "      <td>0.055833</td>\n",
       "    </tr>\n",
       "    <tr>\n",
       "      <td>197</td>\n",
       "      <td>197</td>\n",
       "      <td>0.106459</td>\n",
       "      <td>0.000193</td>\n",
       "      <td>0.837514</td>\n",
       "      <td>0.055834</td>\n",
       "    </tr>\n",
       "    <tr>\n",
       "      <td>198</td>\n",
       "      <td>198</td>\n",
       "      <td>0.106455</td>\n",
       "      <td>0.000182</td>\n",
       "      <td>0.837528</td>\n",
       "      <td>0.055835</td>\n",
       "    </tr>\n",
       "    <tr>\n",
       "      <td>199</td>\n",
       "      <td>199</td>\n",
       "      <td>0.106451</td>\n",
       "      <td>0.000172</td>\n",
       "      <td>0.837541</td>\n",
       "      <td>0.055836</td>\n",
       "    </tr>\n",
       "    <tr>\n",
       "      <td>200</td>\n",
       "      <td>200</td>\n",
       "      <td>0.106448</td>\n",
       "      <td>0.000162</td>\n",
       "      <td>0.837553</td>\n",
       "      <td>0.055837</td>\n",
       "    </tr>\n",
       "  </tbody>\n",
       "</table>\n",
       "</div>"
      ],
      "text/plain": [
       "       t         x         y         z         w\n",
       "196  196  0.106463  0.000205  0.837499  0.055833\n",
       "197  197  0.106459  0.000193  0.837514  0.055834\n",
       "198  198  0.106455  0.000182  0.837528  0.055835\n",
       "199  199  0.106451  0.000172  0.837541  0.055836\n",
       "200  200  0.106448  0.000162  0.837553  0.055837"
      ]
     },
     "execution_count": 7,
     "metadata": {},
     "output_type": "execute_result"
    }
   ],
   "source": [
    "%%time\n",
    "df = simulation(SIRD, initials, step_n=200, kappa=kappa, rho=rho, sigma=sigma)\n",
    "df.tail()"
   ]
  },
  {
   "cell_type": "code",
   "execution_count": 8,
   "metadata": {},
   "outputs": [
    {
     "data": {
      "text/html": [
       "<div>\n",
       "<style scoped>\n",
       "    .dataframe tbody tr th:only-of-type {\n",
       "        vertical-align: middle;\n",
       "    }\n",
       "\n",
       "    .dataframe tbody tr th {\n",
       "        vertical-align: top;\n",
       "    }\n",
       "\n",
       "    .dataframe thead th {\n",
       "        text-align: right;\n",
       "    }\n",
       "</style>\n",
       "<table border=\"1\" class=\"dataframe\">\n",
       "  <thead>\n",
       "    <tr style=\"text-align: right;\">\n",
       "      <th></th>\n",
       "      <th>Date</th>\n",
       "      <th>Group</th>\n",
       "      <th>País</th>\n",
       "      <th>Province</th>\n",
       "      <th>Susceptible</th>\n",
       "      <th>Confirmed</th>\n",
       "      <th>Infected</th>\n",
       "      <th>Recovered</th>\n",
       "      <th>Deaths</th>\n",
       "    </tr>\n",
       "  </thead>\n",
       "  <tbody>\n",
       "    <tr>\n",
       "      <td>196</td>\n",
       "      <td>2020-11-17</td>\n",
       "      <td>Stopping</td>\n",
       "      <td>España</td>\n",
       "      <td>-</td>\n",
       "      <td>4975759</td>\n",
       "      <td>41761023</td>\n",
       "      <td>9567</td>\n",
       "      <td>39141990</td>\n",
       "      <td>2609466</td>\n",
       "    </tr>\n",
       "    <tr>\n",
       "      <td>197</td>\n",
       "      <td>2020-11-18</td>\n",
       "      <td>Stopping</td>\n",
       "      <td>España</td>\n",
       "      <td>-</td>\n",
       "      <td>4975562</td>\n",
       "      <td>41761220</td>\n",
       "      <td>9021</td>\n",
       "      <td>39142687</td>\n",
       "      <td>2609512</td>\n",
       "    </tr>\n",
       "    <tr>\n",
       "      <td>198</td>\n",
       "      <td>2020-11-19</td>\n",
       "      <td>Stopping</td>\n",
       "      <td>España</td>\n",
       "      <td>-</td>\n",
       "      <td>4975375</td>\n",
       "      <td>41761407</td>\n",
       "      <td>8507</td>\n",
       "      <td>39143344</td>\n",
       "      <td>2609556</td>\n",
       "    </tr>\n",
       "    <tr>\n",
       "      <td>199</td>\n",
       "      <td>2020-11-20</td>\n",
       "      <td>Stopping</td>\n",
       "      <td>España</td>\n",
       "      <td>-</td>\n",
       "      <td>4975199</td>\n",
       "      <td>41761583</td>\n",
       "      <td>8022</td>\n",
       "      <td>39143964</td>\n",
       "      <td>2609597</td>\n",
       "    </tr>\n",
       "    <tr>\n",
       "      <td>200</td>\n",
       "      <td>2020-11-21</td>\n",
       "      <td>Stopping</td>\n",
       "      <td>España</td>\n",
       "      <td>-</td>\n",
       "      <td>4975034</td>\n",
       "      <td>41761748</td>\n",
       "      <td>7564</td>\n",
       "      <td>39144548</td>\n",
       "      <td>2609636</td>\n",
       "    </tr>\n",
       "  </tbody>\n",
       "</table>\n",
       "</div>"
      ],
      "text/plain": [
       "          Date     Group    País Province  Susceptible  Confirmed  Infected  \\\n",
       "196 2020-11-17  Stopping  España        -      4975759   41761023      9567   \n",
       "197 2020-11-18  Stopping  España        -      4975562   41761220      9021   \n",
       "198 2020-11-19  Stopping  España        -      4975375   41761407      8507   \n",
       "199 2020-11-20  Stopping  España        -      4975199   41761583      8022   \n",
       "200 2020-11-21  Stopping  España        -      4975034   41761748      7564   \n",
       "\n",
       "     Recovered   Deaths  \n",
       "196   39141990  2609466  \n",
       "197   39142687  2609512  \n",
       "198   39143344  2609556  \n",
       "199   39143964  2609597  \n",
       "200   39144548  2609636  "
      ]
     },
     "execution_count": 8,
     "metadata": {},
     "output_type": "execute_result"
    }
   ],
   "source": [
    "ori_df = pd.DataFrame(\n",
    "    {\n",
    "        \"Date\": (df[\"t\"] * tau).apply(lambda x: timedelta(minutes=x)) + dia_inicial,\n",
    "        \"Group\": \"Stopping\",\n",
    "        \"País\": \"España\",\n",
    "        \"Province\": \"-\",\n",
    "        \"Susceptible\": 0,\n",
    "        \"Confirmed\": 0,\n",
    "        \"Infected\": (df[\"y\"] * poblacion).astype(np.int64)\n",
    "    }\n",
    ")\n",
    "ori_df[\"Recovered\"] = (df[\"z\"] * poblacion).astype(np.int64)\n",
    "ori_df[\"Deaths\"] = (df[\"w\"] * poblacion).astype(np.int64)\n",
    "ori_df[\"Confirmed\"] = ori_df[[\"Infected\", \"Recovered\", \"Deaths\"]].sum(axis=1)\n",
    "ori_df[\"Susceptible\"] = poblacion - ori_df[\"Confirmed\"]\n",
    "ori_df.tail()"
   ]
  },
  {
   "cell_type": "code",
   "execution_count": 9,
   "metadata": {},
   "outputs": [
    {
     "data": {
      "image/png": "[encoded data removed]",
      "text/plain": [
       "<Figure size 864x432 with 1 Axes>"
      ]
     },
     "metadata": {},
     "output_type": "display_data"
    },
    {
     "name": "stdout",
     "output_type": "stream",
     "text": [
      "El número total de fallecimientos es de: 2609636\n",
      "Fallece un 5.58 % de la población\n"
     ]
    }
   ],
   "source": [
    "line_plot(\n",
    "    ori_df.set_index(\"Date\")[[\"Susceptible\", \"Infected\", \"Recovered\", \"Deaths\"]],\n",
    "    \"Modelo SIR-D desconfinando a todos\",\n",
    "    h=poblacion,\n",
    "    y_integer=True\n",
    ")\n",
    "print(u'El número total de fallecimientos es de: {}'.format(ori_df['Deaths'].max()))\n",
    "print(u'Fallece un {} % de la población'.format(np.round((ori_df['Deaths'].max()/poblacion)*100,2)))"
   ]
  },
  {
   "cell_type": "markdown",
   "metadata": {},
   "source": [
    "# 2.- Desescalada por edades\n",
    "___"
   ]
  },
  {
   "cell_type": "markdown",
   "metadata": {},
   "source": [
    "## 2.1.- Apertura a < 50 años:\n",
    "___"
   ]
  },
  {
   "cell_type": "code",
   "execution_count": 10,
   "metadata": {},
   "outputs": [
    {
     "data": {
      "text/plain": [
       "27768675"
      ]
     },
     "execution_count": 10,
     "metadata": {},
     "output_type": "execute_result"
    }
   ],
   "source": [
    "poblacion_menor_50 = edades.loc[edades['Tasa mortalidad']<=0.5][['Hombres', 'Mujeres']].sum().sum()\n",
    "poblacion_menor_50"
   ]
  },
  {
   "cell_type": "markdown",
   "metadata": {},
   "source": [
    "Establecemos $R_0 = 2.5, \\kappa=0.0004, \\rho=0.2$ y los valores iniciales $(x_{(0)}, y_{(0)}, z_{(0)}, w_{(0)}) = (0.999, 0.001, 0, 0)$."
   ]
  },
  {
   "cell_type": "code",
   "execution_count": 11,
   "metadata": {},
   "outputs": [
    {
     "data": {
      "text/markdown": [
       "$\\kappa = 0.0004,\\ \\rho = 0.2,\\ \\sigma = 0.0796$."
      ],
      "text/plain": [
       "<IPython.core.display.Markdown object>"
      ]
     },
     "metadata": {},
     "output_type": "display_data"
    }
   ],
   "source": [
    " #(numero reproductivo, tasa mortalidad * tau, tasa efectiva contagio * tau)\n",
    "r0, kappa, rho = (2.5, 0.0004, 0.2)\n",
    "sigma = rho / r0 - kappa\n",
    "# (susceptibles, infectados, recuperados, fallecidos)\n",
    "initials = (0.999, 0.001, 0, 0) \n",
    "display(Markdown(rf\"$\\kappa = {kappa},\\ \\rho = {rho},\\ \\sigma = {sigma}$.\"))"
   ]
  },
  {
   "cell_type": "markdown",
   "metadata": {},
   "source": [
    "Suponemos que el día inicial es el 5 de Mayo de 2020. $\\tau=1440$ minutos y abrimos a la población de menos de 50 años."
   ]
  },
  {
   "cell_type": "code",
   "execution_count": 12,
   "metadata": {},
   "outputs": [],
   "source": [
    "tau = 1440\n",
    "dia_inicial = datetime.datetime(2020, 5, 5)\n",
    "poblacion = poblacion_menor_50"
   ]
  },
  {
   "cell_type": "code",
   "execution_count": 13,
   "metadata": {},
   "outputs": [
    {
     "name": "stdout",
     "output_type": "stream",
     "text": [
      "CPU times: user 4.42 ms, sys: 38 µs, total: 4.46 ms\n",
      "Wall time: 4.28 ms\n"
     ]
    },
    {
     "data": {
      "text/html": [
       "<div>\n",
       "<style scoped>\n",
       "    .dataframe tbody tr th:only-of-type {\n",
       "        vertical-align: middle;\n",
       "    }\n",
       "\n",
       "    .dataframe tbody tr th {\n",
       "        vertical-align: top;\n",
       "    }\n",
       "\n",
       "    .dataframe thead th {\n",
       "        text-align: right;\n",
       "    }\n",
       "</style>\n",
       "<table border=\"1\" class=\"dataframe\">\n",
       "  <thead>\n",
       "    <tr style=\"text-align: right;\">\n",
       "      <th></th>\n",
       "      <th>t</th>\n",
       "      <th>x</th>\n",
       "      <th>y</th>\n",
       "      <th>z</th>\n",
       "      <th>w</th>\n",
       "    </tr>\n",
       "  </thead>\n",
       "  <tbody>\n",
       "    <tr>\n",
       "      <td>86</td>\n",
       "      <td>86</td>\n",
       "      <td>0.159565</td>\n",
       "      <td>0.109474</td>\n",
       "      <td>0.727306</td>\n",
       "      <td>0.003655</td>\n",
       "    </tr>\n",
       "    <tr>\n",
       "      <td>87</td>\n",
       "      <td>87</td>\n",
       "      <td>0.156190</td>\n",
       "      <td>0.104299</td>\n",
       "      <td>0.735813</td>\n",
       "      <td>0.003698</td>\n",
       "    </tr>\n",
       "    <tr>\n",
       "      <td>88</td>\n",
       "      <td>88</td>\n",
       "      <td>0.153043</td>\n",
       "      <td>0.099303</td>\n",
       "      <td>0.743915</td>\n",
       "      <td>0.003738</td>\n",
       "    </tr>\n",
       "    <tr>\n",
       "      <td>89</td>\n",
       "      <td>89</td>\n",
       "      <td>0.150106</td>\n",
       "      <td>0.094490</td>\n",
       "      <td>0.751627</td>\n",
       "      <td>0.003777</td>\n",
       "    </tr>\n",
       "    <tr>\n",
       "      <td>90</td>\n",
       "      <td>90</td>\n",
       "      <td>0.147365</td>\n",
       "      <td>0.089858</td>\n",
       "      <td>0.758963</td>\n",
       "      <td>0.003814</td>\n",
       "    </tr>\n",
       "  </tbody>\n",
       "</table>\n",
       "</div>"
      ],
      "text/plain": [
       "     t         x         y         z         w\n",
       "86  86  0.159565  0.109474  0.727306  0.003655\n",
       "87  87  0.156190  0.104299  0.735813  0.003698\n",
       "88  88  0.153043  0.099303  0.743915  0.003738\n",
       "89  89  0.150106  0.094490  0.751627  0.003777\n",
       "90  90  0.147365  0.089858  0.758963  0.003814"
      ]
     },
     "execution_count": 13,
     "metadata": {},
     "output_type": "execute_result"
    }
   ],
   "source": [
    "%%time\n",
    "df = simulation(SIRD, initials, step_n=90, kappa=kappa, rho=rho, sigma=sigma)\n",
    "df.tail()"
   ]
  },
  {
   "cell_type": "code",
   "execution_count": 14,
   "metadata": {
    "scrolled": true
   },
   "outputs": [
    {
     "data": {
      "text/html": [
       "<div>\n",
       "<style scoped>\n",
       "    .dataframe tbody tr th:only-of-type {\n",
       "        vertical-align: middle;\n",
       "    }\n",
       "\n",
       "    .dataframe tbody tr th {\n",
       "        vertical-align: top;\n",
       "    }\n",
       "\n",
       "    .dataframe thead th {\n",
       "        text-align: right;\n",
       "    }\n",
       "</style>\n",
       "<table border=\"1\" class=\"dataframe\">\n",
       "  <thead>\n",
       "    <tr style=\"text-align: right;\">\n",
       "      <th></th>\n",
       "      <th>Date</th>\n",
       "      <th>Group</th>\n",
       "      <th>País</th>\n",
       "      <th>Province</th>\n",
       "      <th>Susceptible</th>\n",
       "      <th>Confirmed</th>\n",
       "      <th>Infected</th>\n",
       "      <th>Recovered</th>\n",
       "      <th>Deaths</th>\n",
       "    </tr>\n",
       "  </thead>\n",
       "  <tbody>\n",
       "    <tr>\n",
       "      <td>86</td>\n",
       "      <td>2020-07-30</td>\n",
       "      <td>Stopping</td>\n",
       "      <td>España</td>\n",
       "      <td>-</td>\n",
       "      <td>4430903</td>\n",
       "      <td>23337772</td>\n",
       "      <td>3039953</td>\n",
       "      <td>20196330</td>\n",
       "      <td>101489</td>\n",
       "    </tr>\n",
       "    <tr>\n",
       "      <td>87</td>\n",
       "      <td>2020-07-31</td>\n",
       "      <td>Stopping</td>\n",
       "      <td>España</td>\n",
       "      <td>-</td>\n",
       "      <td>4337201</td>\n",
       "      <td>23431474</td>\n",
       "      <td>2896240</td>\n",
       "      <td>20432558</td>\n",
       "      <td>102676</td>\n",
       "    </tr>\n",
       "    <tr>\n",
       "      <td>88</td>\n",
       "      <td>2020-08-01</td>\n",
       "      <td>Stopping</td>\n",
       "      <td>España</td>\n",
       "      <td>-</td>\n",
       "      <td>4249802</td>\n",
       "      <td>23518873</td>\n",
       "      <td>2757522</td>\n",
       "      <td>20657545</td>\n",
       "      <td>103806</td>\n",
       "    </tr>\n",
       "    <tr>\n",
       "      <td>89</td>\n",
       "      <td>2020-08-02</td>\n",
       "      <td>Stopping</td>\n",
       "      <td>España</td>\n",
       "      <td>-</td>\n",
       "      <td>4168249</td>\n",
       "      <td>23600426</td>\n",
       "      <td>2623853</td>\n",
       "      <td>20871691</td>\n",
       "      <td>104882</td>\n",
       "    </tr>\n",
       "    <tr>\n",
       "      <td>90</td>\n",
       "      <td>2020-08-03</td>\n",
       "      <td>Stopping</td>\n",
       "      <td>España</td>\n",
       "      <td>-</td>\n",
       "      <td>4092124</td>\n",
       "      <td>23676551</td>\n",
       "      <td>2495248</td>\n",
       "      <td>21075397</td>\n",
       "      <td>105906</td>\n",
       "    </tr>\n",
       "  </tbody>\n",
       "</table>\n",
       "</div>"
      ],
      "text/plain": [
       "         Date     Group    País Province  Susceptible  Confirmed  Infected  \\\n",
       "86 2020-07-30  Stopping  España        -      4430903   23337772   3039953   \n",
       "87 2020-07-31  Stopping  España        -      4337201   23431474   2896240   \n",
       "88 2020-08-01  Stopping  España        -      4249802   23518873   2757522   \n",
       "89 2020-08-02  Stopping  España        -      4168249   23600426   2623853   \n",
       "90 2020-08-03  Stopping  España        -      4092124   23676551   2495248   \n",
       "\n",
       "    Recovered  Deaths  \n",
       "86   20196330  101489  \n",
       "87   20432558  102676  \n",
       "88   20657545  103806  \n",
       "89   20871691  104882  \n",
       "90   21075397  105906  "
      ]
     },
     "execution_count": 14,
     "metadata": {},
     "output_type": "execute_result"
    }
   ],
   "source": [
    "ori_df = pd.DataFrame(\n",
    "    {\n",
    "        \"Date\": (df[\"t\"] * tau).apply(lambda x: timedelta(minutes=x)) + dia_inicial,\n",
    "        \"Group\": \"Stopping\",\n",
    "        \"País\": \"España\",\n",
    "        \"Province\": \"-\",\n",
    "        \"Susceptible\": 0,\n",
    "        \"Confirmed\": 0,\n",
    "        \"Infected\": (df[\"y\"] * poblacion).astype(np.int64)\n",
    "    }\n",
    ")\n",
    "ori_df[\"Recovered\"] = (df[\"z\"] * poblacion).astype(np.int64)\n",
    "ori_df[\"Deaths\"] = (df[\"w\"] * poblacion).astype(np.int64)\n",
    "ori_df[\"Confirmed\"] = ori_df[[\"Infected\", \"Recovered\", \"Deaths\"]].sum(axis=1)\n",
    "ori_df[\"Susceptible\"] = poblacion - ori_df[\"Confirmed\"]\n",
    "ori_df.tail()"
   ]
  },
  {
   "cell_type": "code",
   "execution_count": 15,
   "metadata": {},
   "outputs": [
    {
     "data": {
      "image/png": "[encoded data removed]",
      "text/plain": [
       "<Figure size 864x432 with 1 Axes>"
      ]
     },
     "metadata": {},
     "output_type": "display_data"
    },
    {
     "name": "stdout",
     "output_type": "stream",
     "text": [
      "El número total de fallecimientos es de: 105906\n",
      "Fallece un 0.38 % de la población\n"
     ]
    }
   ],
   "source": [
    "line_plot(\n",
    "    ori_df.set_index(\"Date\")[[\"Susceptible\", \"Infected\", \"Recovered\", \"Deaths\"]],\n",
    "    \"Modelo SIR-D desconfinando por edades  -- fase 2, apertura < 50 años\",\n",
    "    h=poblacion,\n",
    "    y_integer=True\n",
    ")\n",
    "print(u'El número total de fallecimientos es de: {}'.format(ori_df['Deaths'].max()))\n",
    "print(u'Fallece un {} % de la población'.format(np.round((ori_df['Deaths'].max()/poblacion)*100,2)))"
   ]
  },
  {
   "cell_type": "markdown",
   "metadata": {},
   "source": [
    "## 2.2.- Apertura a >= 50 y <70 años:\n",
    "___"
   ]
  },
  {
   "cell_type": "code",
   "execution_count": 16,
   "metadata": {},
   "outputs": [
    {
     "data": {
      "text/plain": [
       "12145105"
      ]
     },
     "execution_count": 16,
     "metadata": {},
     "output_type": "execute_result"
    }
   ],
   "source": [
    "poblacion_mayor_50_menor_70 = edades.loc[(edades['Tasa mortalidad']>1) &\n",
    "                               (edades['Tasa mortalidad']<4)][['Hombres', 'Mujeres']].sum().sum()\n",
    "poblacion_mayor_50_menor_70"
   ]
  },
  {
   "cell_type": "code",
   "execution_count": 17,
   "metadata": {},
   "outputs": [
    {
     "data": {
      "text/html": [
       "<div>\n",
       "<style scoped>\n",
       "    .dataframe tbody tr th:only-of-type {\n",
       "        vertical-align: middle;\n",
       "    }\n",
       "\n",
       "    .dataframe tbody tr th {\n",
       "        vertical-align: top;\n",
       "    }\n",
       "\n",
       "    .dataframe thead th {\n",
       "        text-align: right;\n",
       "    }\n",
       "</style>\n",
       "<table border=\"1\" class=\"dataframe\">\n",
       "  <thead>\n",
       "    <tr style=\"text-align: right;\">\n",
       "      <th></th>\n",
       "      <th>Date</th>\n",
       "      <th>Group</th>\n",
       "      <th>País</th>\n",
       "      <th>Province</th>\n",
       "      <th>Susceptible</th>\n",
       "      <th>Confirmed</th>\n",
       "      <th>Infected</th>\n",
       "      <th>Recovered</th>\n",
       "      <th>Deaths</th>\n",
       "    </tr>\n",
       "  </thead>\n",
       "  <tbody>\n",
       "    <tr>\n",
       "      <td>90</td>\n",
       "      <td>2020-08-03</td>\n",
       "      <td>Stopping</td>\n",
       "      <td>España</td>\n",
       "      <td>-</td>\n",
       "      <td>4092124</td>\n",
       "      <td>23676551</td>\n",
       "      <td>2495248</td>\n",
       "      <td>21075397</td>\n",
       "      <td>105906</td>\n",
       "    </tr>\n",
       "  </tbody>\n",
       "</table>\n",
       "</div>"
      ],
      "text/plain": [
       "         Date     Group    País Province  Susceptible  Confirmed  Infected  \\\n",
       "90 2020-08-03  Stopping  España        -      4092124   23676551   2495248   \n",
       "\n",
       "    Recovered  Deaths  \n",
       "90   21075397  105906  "
      ]
     },
     "execution_count": 17,
     "metadata": {},
     "output_type": "execute_result"
    }
   ],
   "source": [
    "condicion_inicial = ori_df.loc[ori_df['Date']==ori_df['Date'].max()]\n",
    "condicion_inicial"
   ]
  },
  {
   "cell_type": "code",
   "execution_count": 18,
   "metadata": {},
   "outputs": [],
   "source": [
    "susceptibles = poblacion_mayor_50_menor_70 + condicion_inicial['Susceptible'].values[0]\n",
    "infectados = condicion_inicial['Infected'].values[0]\n",
    "recuperados = condicion_inicial['Recovered'].values[0]\n",
    "fallecidos = condicion_inicial['Deaths'].values[0]"
   ]
  },
  {
   "cell_type": "code",
   "execution_count": 19,
   "metadata": {},
   "outputs": [
    {
     "data": {
      "text/plain": [
       "(0.4068075987791685,\n",
       " 0.06251595313698677,\n",
       " 0.5280230787462376,\n",
       " 0.002653369337607212)"
      ]
     },
     "execution_count": 19,
     "metadata": {},
     "output_type": "execute_result"
    }
   ],
   "source": [
    "ini_sus = susceptibles/(susceptibles+infectados+recuperados+fallecidos)\n",
    "ini_inf = infectados/(susceptibles+infectados+recuperados+fallecidos)\n",
    "ini_recup = recuperados/(susceptibles+infectados+recuperados+fallecidos)\n",
    "ini_fall = fallecidos/(susceptibles+infectados+recuperados+fallecidos)\n",
    "ini_sus, ini_inf, ini_recup, ini_fall"
   ]
  },
  {
   "cell_type": "markdown",
   "metadata": {},
   "source": [
    "Ahora aumentamos la tasa de mortalidad esperada, ya que el nuevo grupo es más mayor: $R_0 = 2.5, \\kappa=0.003, \\rho=0.2$."
   ]
  },
  {
   "cell_type": "code",
   "execution_count": 20,
   "metadata": {},
   "outputs": [
    {
     "data": {
      "text/markdown": [
       "$\\kappa = 0.003,\\ \\rho = 0.2,\\ \\sigma = 0.077$."
      ],
      "text/plain": [
       "<IPython.core.display.Markdown object>"
      ]
     },
     "metadata": {},
     "output_type": "display_data"
    }
   ],
   "source": [
    "#(numero reproductivo, tasa mortalidad * tau, tasa efectiva contagio * tau)\n",
    "r0, kappa, rho = (2.5, 0.003, 0.2) \n",
    "sigma = rho / r0 - kappa\n",
    " # (susceptibles, infectados, recuperados, fallecidos)\n",
    "initials = (ini_sus, ini_inf, ini_recup, ini_fall)\n",
    "display(Markdown(rf\"$\\kappa = {kappa},\\ \\rho = {rho},\\ \\sigma = {sigma}$.\"))"
   ]
  },
  {
   "cell_type": "markdown",
   "metadata": {},
   "source": [
    "Suponemos que el día inicial es el 3 de Agosto de 2020. $\\tau=1440$ minutos y abrimos también a la población de entre 50 y 70 años."
   ]
  },
  {
   "cell_type": "code",
   "execution_count": 21,
   "metadata": {},
   "outputs": [],
   "source": [
    "tau = 1440\n",
    "dia_inicial = datetime.datetime(2020, 8, 3)\n",
    "poblacion = susceptibles + infectados + recuperados + fallecidos"
   ]
  },
  {
   "cell_type": "code",
   "execution_count": 22,
   "metadata": {},
   "outputs": [
    {
     "name": "stdout",
     "output_type": "stream",
     "text": [
      "CPU times: user 4.06 ms, sys: 2 µs, total: 4.07 ms\n",
      "Wall time: 3.58 ms\n"
     ]
    },
    {
     "data": {
      "text/html": [
       "<div>\n",
       "<style scoped>\n",
       "    .dataframe tbody tr th:only-of-type {\n",
       "        vertical-align: middle;\n",
       "    }\n",
       "\n",
       "    .dataframe tbody tr th {\n",
       "        vertical-align: top;\n",
       "    }\n",
       "\n",
       "    .dataframe thead th {\n",
       "        text-align: right;\n",
       "    }\n",
       "</style>\n",
       "<table border=\"1\" class=\"dataframe\">\n",
       "  <thead>\n",
       "    <tr style=\"text-align: right;\">\n",
       "      <th></th>\n",
       "      <th>t</th>\n",
       "      <th>x</th>\n",
       "      <th>y</th>\n",
       "      <th>z</th>\n",
       "      <th>w</th>\n",
       "    </tr>\n",
       "  </thead>\n",
       "  <tbody>\n",
       "    <tr>\n",
       "      <td>86</td>\n",
       "      <td>86</td>\n",
       "      <td>0.225987</td>\n",
       "      <td>0.008051</td>\n",
       "      <td>0.754485</td>\n",
       "      <td>0.011477</td>\n",
       "    </tr>\n",
       "    <tr>\n",
       "      <td>87</td>\n",
       "      <td>87</td>\n",
       "      <td>0.225632</td>\n",
       "      <td>0.007775</td>\n",
       "      <td>0.755092</td>\n",
       "      <td>0.011500</td>\n",
       "    </tr>\n",
       "    <tr>\n",
       "      <td>88</td>\n",
       "      <td>88</td>\n",
       "      <td>0.225290</td>\n",
       "      <td>0.007509</td>\n",
       "      <td>0.755679</td>\n",
       "      <td>0.011523</td>\n",
       "    </tr>\n",
       "    <tr>\n",
       "      <td>89</td>\n",
       "      <td>89</td>\n",
       "      <td>0.224959</td>\n",
       "      <td>0.007251</td>\n",
       "      <td>0.756245</td>\n",
       "      <td>0.011545</td>\n",
       "    </tr>\n",
       "    <tr>\n",
       "      <td>90</td>\n",
       "      <td>90</td>\n",
       "      <td>0.224639</td>\n",
       "      <td>0.007001</td>\n",
       "      <td>0.756794</td>\n",
       "      <td>0.011567</td>\n",
       "    </tr>\n",
       "  </tbody>\n",
       "</table>\n",
       "</div>"
      ],
      "text/plain": [
       "     t         x         y         z         w\n",
       "86  86  0.225987  0.008051  0.754485  0.011477\n",
       "87  87  0.225632  0.007775  0.755092  0.011500\n",
       "88  88  0.225290  0.007509  0.755679  0.011523\n",
       "89  89  0.224959  0.007251  0.756245  0.011545\n",
       "90  90  0.224639  0.007001  0.756794  0.011567"
      ]
     },
     "execution_count": 22,
     "metadata": {},
     "output_type": "execute_result"
    }
   ],
   "source": [
    "%%time\n",
    "df = simulation(SIRD, initials, step_n=90, kappa=kappa, rho=rho, sigma=sigma)\n",
    "df.tail()"
   ]
  },
  {
   "cell_type": "code",
   "execution_count": 23,
   "metadata": {
    "scrolled": true
   },
   "outputs": [
    {
     "data": {
      "text/html": [
       "<div>\n",
       "<style scoped>\n",
       "    .dataframe tbody tr th:only-of-type {\n",
       "        vertical-align: middle;\n",
       "    }\n",
       "\n",
       "    .dataframe tbody tr th {\n",
       "        vertical-align: top;\n",
       "    }\n",
       "\n",
       "    .dataframe thead th {\n",
       "        text-align: right;\n",
       "    }\n",
       "</style>\n",
       "<table border=\"1\" class=\"dataframe\">\n",
       "  <thead>\n",
       "    <tr style=\"text-align: right;\">\n",
       "      <th></th>\n",
       "      <th>Date</th>\n",
       "      <th>Group</th>\n",
       "      <th>País</th>\n",
       "      <th>Province</th>\n",
       "      <th>Susceptible</th>\n",
       "      <th>Confirmed</th>\n",
       "      <th>Infected</th>\n",
       "      <th>Recovered</th>\n",
       "      <th>Deaths</th>\n",
       "    </tr>\n",
       "  </thead>\n",
       "  <tbody>\n",
       "    <tr>\n",
       "      <td>86</td>\n",
       "      <td>2020-10-28</td>\n",
       "      <td>Stopping</td>\n",
       "      <td>España</td>\n",
       "      <td>-</td>\n",
       "      <td>9020007</td>\n",
       "      <td>30893773</td>\n",
       "      <td>321344</td>\n",
       "      <td>30114356</td>\n",
       "      <td>458073</td>\n",
       "    </tr>\n",
       "    <tr>\n",
       "      <td>87</td>\n",
       "      <td>2020-10-29</td>\n",
       "      <td>Stopping</td>\n",
       "      <td>España</td>\n",
       "      <td>-</td>\n",
       "      <td>9005841</td>\n",
       "      <td>30907939</td>\n",
       "      <td>310344</td>\n",
       "      <td>30138579</td>\n",
       "      <td>459016</td>\n",
       "    </tr>\n",
       "    <tr>\n",
       "      <td>88</td>\n",
       "      <td>2020-10-30</td>\n",
       "      <td>Stopping</td>\n",
       "      <td>España</td>\n",
       "      <td>-</td>\n",
       "      <td>8992164</td>\n",
       "      <td>30921616</td>\n",
       "      <td>299701</td>\n",
       "      <td>30161987</td>\n",
       "      <td>459928</td>\n",
       "    </tr>\n",
       "    <tr>\n",
       "      <td>89</td>\n",
       "      <td>2020-10-31</td>\n",
       "      <td>Stopping</td>\n",
       "      <td>España</td>\n",
       "      <td>-</td>\n",
       "      <td>8978954</td>\n",
       "      <td>30934826</td>\n",
       "      <td>289403</td>\n",
       "      <td>30184613</td>\n",
       "      <td>460810</td>\n",
       "    </tr>\n",
       "    <tr>\n",
       "      <td>90</td>\n",
       "      <td>2020-11-01</td>\n",
       "      <td>Stopping</td>\n",
       "      <td>España</td>\n",
       "      <td>-</td>\n",
       "      <td>8966184</td>\n",
       "      <td>30947596</td>\n",
       "      <td>279440</td>\n",
       "      <td>30206493</td>\n",
       "      <td>461663</td>\n",
       "    </tr>\n",
       "  </tbody>\n",
       "</table>\n",
       "</div>"
      ],
      "text/plain": [
       "         Date     Group    País Province  Susceptible  Confirmed  Infected  \\\n",
       "86 2020-10-28  Stopping  España        -      9020007   30893773    321344   \n",
       "87 2020-10-29  Stopping  España        -      9005841   30907939    310344   \n",
       "88 2020-10-30  Stopping  España        -      8992164   30921616    299701   \n",
       "89 2020-10-31  Stopping  España        -      8978954   30934826    289403   \n",
       "90 2020-11-01  Stopping  España        -      8966184   30947596    279440   \n",
       "\n",
       "    Recovered  Deaths  \n",
       "86   30114356  458073  \n",
       "87   30138579  459016  \n",
       "88   30161987  459928  \n",
       "89   30184613  460810  \n",
       "90   30206493  461663  "
      ]
     },
     "execution_count": 23,
     "metadata": {},
     "output_type": "execute_result"
    }
   ],
   "source": [
    "ori_df = pd.DataFrame(\n",
    "    {\n",
    "        \"Date\": (df[\"t\"] * tau).apply(lambda x: timedelta(minutes=x)) + dia_inicial,\n",
    "        \"Group\": \"Stopping\",\n",
    "        \"País\": \"España\",\n",
    "        \"Province\": \"-\",\n",
    "        \"Susceptible\": 0,\n",
    "        \"Confirmed\": 0,\n",
    "        \"Infected\": (df[\"y\"] * poblacion).astype(np.int64)\n",
    "    }\n",
    ")\n",
    "ori_df[\"Recovered\"] = (df[\"z\"] * poblacion).astype(np.int64)\n",
    "ori_df[\"Deaths\"] = (df[\"w\"] * poblacion).astype(np.int64)\n",
    "ori_df[\"Confirmed\"] = ori_df[[\"Infected\", \"Recovered\", \"Deaths\"]].sum(axis=1)\n",
    "ori_df[\"Susceptible\"] = poblacion - ori_df[\"Confirmed\"]\n",
    "ori_df.tail()"
   ]
  },
  {
   "cell_type": "code",
   "execution_count": 24,
   "metadata": {},
   "outputs": [
    {
     "data": {
      "image/png": "[encoded data removed]",
      "text/plain": [
       "<Figure size 864x432 with 1 Axes>"
      ]
     },
     "metadata": {},
     "output_type": "display_data"
    },
    {
     "name": "stdout",
     "output_type": "stream",
     "text": [
      "El número total de fallecimientos es de: 461663\n",
      "Fallece un 1.16 % de la población\n"
     ]
    }
   ],
   "source": [
    "line_plot(\n",
    "    ori_df.set_index(\"Date\")[[\"Susceptible\", \"Infected\", \"Recovered\", \"Deaths\"]],\n",
    "    \"Modelo SIR-D desconfinando por edades -- fase 2, apertura < 70 años\",\n",
    "    h=poblacion,\n",
    "    y_integer=True\n",
    ")\n",
    "print(u'El número total de fallecimientos es de: {}'.format(ori_df['Deaths'].max()))\n",
    "print(u'Fallece un {} % de la población'.format(np.round((ori_df['Deaths'].max()/poblacion)*100,2)))"
   ]
  },
  {
   "cell_type": "markdown",
   "metadata": {},
   "source": [
    "## 2.3.- Apertura a >= 70:\n",
    "___"
   ]
  },
  {
   "cell_type": "code",
   "execution_count": 25,
   "metadata": {},
   "outputs": [
    {
     "data": {
      "text/plain": [
       "6823002"
      ]
     },
     "execution_count": 25,
     "metadata": {},
     "output_type": "execute_result"
    }
   ],
   "source": [
    "poblacion_mayor_70 = edades.loc[(edades['Tasa mortalidad']>4)][['Hombres', 'Mujeres']].sum().sum()\n",
    "poblacion_mayor_70"
   ]
  },
  {
   "cell_type": "code",
   "execution_count": 26,
   "metadata": {},
   "outputs": [
    {
     "data": {
      "text/html": [
       "<div>\n",
       "<style scoped>\n",
       "    .dataframe tbody tr th:only-of-type {\n",
       "        vertical-align: middle;\n",
       "    }\n",
       "\n",
       "    .dataframe tbody tr th {\n",
       "        vertical-align: top;\n",
       "    }\n",
       "\n",
       "    .dataframe thead th {\n",
       "        text-align: right;\n",
       "    }\n",
       "</style>\n",
       "<table border=\"1\" class=\"dataframe\">\n",
       "  <thead>\n",
       "    <tr style=\"text-align: right;\">\n",
       "      <th></th>\n",
       "      <th>Date</th>\n",
       "      <th>Group</th>\n",
       "      <th>País</th>\n",
       "      <th>Province</th>\n",
       "      <th>Susceptible</th>\n",
       "      <th>Confirmed</th>\n",
       "      <th>Infected</th>\n",
       "      <th>Recovered</th>\n",
       "      <th>Deaths</th>\n",
       "    </tr>\n",
       "  </thead>\n",
       "  <tbody>\n",
       "    <tr>\n",
       "      <td>90</td>\n",
       "      <td>2020-11-01</td>\n",
       "      <td>Stopping</td>\n",
       "      <td>España</td>\n",
       "      <td>-</td>\n",
       "      <td>8966184</td>\n",
       "      <td>30947596</td>\n",
       "      <td>279440</td>\n",
       "      <td>30206493</td>\n",
       "      <td>461663</td>\n",
       "    </tr>\n",
       "  </tbody>\n",
       "</table>\n",
       "</div>"
      ],
      "text/plain": [
       "         Date     Group    País Province  Susceptible  Confirmed  Infected  \\\n",
       "90 2020-11-01  Stopping  España        -      8966184   30947596    279440   \n",
       "\n",
       "    Recovered  Deaths  \n",
       "90   30206493  461663  "
      ]
     },
     "execution_count": 26,
     "metadata": {},
     "output_type": "execute_result"
    }
   ],
   "source": [
    "condicion_inicial = ori_df.loc[ori_df['Date']==ori_df['Date'].max()]\n",
    "condicion_inicial"
   ]
  },
  {
   "cell_type": "code",
   "execution_count": 27,
   "metadata": {},
   "outputs": [],
   "source": [
    "susceptibles = poblacion_mayor_70 + condicion_inicial['Susceptible'].values[0]\n",
    "infectados = condicion_inicial['Infected'].values[0]\n",
    "recuperados = condicion_inicial['Recovered'].values[0]\n",
    "fallecidos = condicion_inicial['Deaths'].values[0]"
   ]
  },
  {
   "cell_type": "code",
   "execution_count": 28,
   "metadata": {},
   "outputs": [
    {
     "data": {
      "text/plain": [
       "(0.3378321168967089,\n",
       " 0.005979016698239943,\n",
       " 0.6463109291521183,\n",
       " 0.009877937252932819)"
      ]
     },
     "execution_count": 28,
     "metadata": {},
     "output_type": "execute_result"
    }
   ],
   "source": [
    "ini_sus = susceptibles/(susceptibles+infectados+recuperados+fallecidos)\n",
    "ini_inf = infectados/(susceptibles+infectados+recuperados+fallecidos)\n",
    "ini_recup = recuperados/(susceptibles+infectados+recuperados+fallecidos)\n",
    "ini_fall = fallecidos/(susceptibles+infectados+recuperados+fallecidos)\n",
    "ini_sus, ini_inf, ini_recup, ini_fall"
   ]
  },
  {
   "cell_type": "markdown",
   "metadata": {},
   "source": [
    "Volvemos a subir la tasa de mortalidad $R_0 = 2.5, \\kappa=0.005, \\rho=0.2$."
   ]
  },
  {
   "cell_type": "code",
   "execution_count": 29,
   "metadata": {},
   "outputs": [
    {
     "data": {
      "text/markdown": [
       "$\\kappa = 0.005,\\ \\rho = 0.2,\\ \\sigma = 0.075$."
      ],
      "text/plain": [
       "<IPython.core.display.Markdown object>"
      ]
     },
     "metadata": {},
     "output_type": "display_data"
    }
   ],
   "source": [
    "r0, kappa, rho = (2.5, 0.005, 0.2) #(numero reproductivo, tasa mortalidad * tau, tasa efectiva contagio * tau)\n",
    "sigma = rho / r0 - kappa\n",
    "initials = (ini_sus, ini_inf, ini_recup, ini_fall) # (susceptibles, infectados, recuperados, fallecidos)\n",
    "display(Markdown(rf\"$\\kappa = {kappa},\\ \\rho = {rho},\\ \\sigma = {sigma}$.\"))"
   ]
  },
  {
   "cell_type": "markdown",
   "metadata": {},
   "source": [
    "Suponemos que el día inicial es el 1 de Noviembre de 2020. $\\tau=1440$ minutos y abrimos al total de la población."
   ]
  },
  {
   "cell_type": "code",
   "execution_count": 30,
   "metadata": {},
   "outputs": [],
   "source": [
    "tau = 1440\n",
    "dia_inicial = datetime.datetime(2020, 11, 1)\n",
    "poblacion = susceptibles + infectados + recuperados + fallecidos"
   ]
  },
  {
   "cell_type": "code",
   "execution_count": 31,
   "metadata": {},
   "outputs": [
    {
     "name": "stdout",
     "output_type": "stream",
     "text": [
      "CPU times: user 2.56 ms, sys: 0 ns, total: 2.56 ms\n",
      "Wall time: 2.24 ms\n"
     ]
    },
    {
     "data": {
      "text/html": [
       "<div>\n",
       "<style scoped>\n",
       "    .dataframe tbody tr th:only-of-type {\n",
       "        vertical-align: middle;\n",
       "    }\n",
       "\n",
       "    .dataframe tbody tr th {\n",
       "        vertical-align: top;\n",
       "    }\n",
       "\n",
       "    .dataframe thead th {\n",
       "        text-align: right;\n",
       "    }\n",
       "</style>\n",
       "<table border=\"1\" class=\"dataframe\">\n",
       "  <thead>\n",
       "    <tr style=\"text-align: right;\">\n",
       "      <th></th>\n",
       "      <th>t</th>\n",
       "      <th>x</th>\n",
       "      <th>y</th>\n",
       "      <th>z</th>\n",
       "      <th>w</th>\n",
       "    </tr>\n",
       "  </thead>\n",
       "  <tbody>\n",
       "    <tr>\n",
       "      <td>16</td>\n",
       "      <td>16</td>\n",
       "      <td>0.332039</td>\n",
       "      <td>0.004854</td>\n",
       "      <td>0.652797</td>\n",
       "      <td>0.010310</td>\n",
       "    </tr>\n",
       "    <tr>\n",
       "      <td>17</td>\n",
       "      <td>17</td>\n",
       "      <td>0.331719</td>\n",
       "      <td>0.004788</td>\n",
       "      <td>0.653159</td>\n",
       "      <td>0.010334</td>\n",
       "    </tr>\n",
       "    <tr>\n",
       "      <td>18</td>\n",
       "      <td>18</td>\n",
       "      <td>0.331404</td>\n",
       "      <td>0.004723</td>\n",
       "      <td>0.653515</td>\n",
       "      <td>0.010358</td>\n",
       "    </tr>\n",
       "    <tr>\n",
       "      <td>19</td>\n",
       "      <td>19</td>\n",
       "      <td>0.331093</td>\n",
       "      <td>0.004658</td>\n",
       "      <td>0.653867</td>\n",
       "      <td>0.010382</td>\n",
       "    </tr>\n",
       "    <tr>\n",
       "      <td>20</td>\n",
       "      <td>20</td>\n",
       "      <td>0.330787</td>\n",
       "      <td>0.004594</td>\n",
       "      <td>0.654214</td>\n",
       "      <td>0.010405</td>\n",
       "    </tr>\n",
       "  </tbody>\n",
       "</table>\n",
       "</div>"
      ],
      "text/plain": [
       "     t         x         y         z         w\n",
       "16  16  0.332039  0.004854  0.652797  0.010310\n",
       "17  17  0.331719  0.004788  0.653159  0.010334\n",
       "18  18  0.331404  0.004723  0.653515  0.010358\n",
       "19  19  0.331093  0.004658  0.653867  0.010382\n",
       "20  20  0.330787  0.004594  0.654214  0.010405"
      ]
     },
     "execution_count": 31,
     "metadata": {},
     "output_type": "execute_result"
    }
   ],
   "source": [
    "%%time\n",
    "df = simulation(SIRD, initials, step_n=20, kappa=kappa, rho=rho, sigma=sigma)\n",
    "df.tail()"
   ]
  },
  {
   "cell_type": "code",
   "execution_count": 32,
   "metadata": {
    "scrolled": true
   },
   "outputs": [
    {
     "data": {
      "text/html": [
       "<div>\n",
       "<style scoped>\n",
       "    .dataframe tbody tr th:only-of-type {\n",
       "        vertical-align: middle;\n",
       "    }\n",
       "\n",
       "    .dataframe tbody tr th {\n",
       "        vertical-align: top;\n",
       "    }\n",
       "\n",
       "    .dataframe thead th {\n",
       "        text-align: right;\n",
       "    }\n",
       "</style>\n",
       "<table border=\"1\" class=\"dataframe\">\n",
       "  <thead>\n",
       "    <tr style=\"text-align: right;\">\n",
       "      <th></th>\n",
       "      <th>Date</th>\n",
       "      <th>Group</th>\n",
       "      <th>País</th>\n",
       "      <th>Province</th>\n",
       "      <th>Susceptible</th>\n",
       "      <th>Confirmed</th>\n",
       "      <th>Infected</th>\n",
       "      <th>Recovered</th>\n",
       "      <th>Deaths</th>\n",
       "    </tr>\n",
       "  </thead>\n",
       "  <tbody>\n",
       "    <tr>\n",
       "      <td>16</td>\n",
       "      <td>2020-11-17</td>\n",
       "      <td>Stopping</td>\n",
       "      <td>España</td>\n",
       "      <td>-</td>\n",
       "      <td>15518442</td>\n",
       "      <td>31218340</td>\n",
       "      <td>226837</td>\n",
       "      <td>30509631</td>\n",
       "      <td>481872</td>\n",
       "    </tr>\n",
       "    <tr>\n",
       "      <td>17</td>\n",
       "      <td>2020-11-18</td>\n",
       "      <td>Stopping</td>\n",
       "      <td>España</td>\n",
       "      <td>-</td>\n",
       "      <td>15503489</td>\n",
       "      <td>31233293</td>\n",
       "      <td>223767</td>\n",
       "      <td>30526528</td>\n",
       "      <td>482998</td>\n",
       "    </tr>\n",
       "    <tr>\n",
       "      <td>18</td>\n",
       "      <td>2020-11-19</td>\n",
       "      <td>Stopping</td>\n",
       "      <td>España</td>\n",
       "      <td>-</td>\n",
       "      <td>15488752</td>\n",
       "      <td>31248030</td>\n",
       "      <td>220725</td>\n",
       "      <td>30543196</td>\n",
       "      <td>484109</td>\n",
       "    </tr>\n",
       "    <tr>\n",
       "      <td>19</td>\n",
       "      <td>2020-11-20</td>\n",
       "      <td>Stopping</td>\n",
       "      <td>España</td>\n",
       "      <td>-</td>\n",
       "      <td>15474229</td>\n",
       "      <td>31262553</td>\n",
       "      <td>217711</td>\n",
       "      <td>30559637</td>\n",
       "      <td>485205</td>\n",
       "    </tr>\n",
       "    <tr>\n",
       "      <td>20</td>\n",
       "      <td>2020-11-21</td>\n",
       "      <td>Stopping</td>\n",
       "      <td>España</td>\n",
       "      <td>-</td>\n",
       "      <td>15459916</td>\n",
       "      <td>31276866</td>\n",
       "      <td>214725</td>\n",
       "      <td>30575854</td>\n",
       "      <td>486287</td>\n",
       "    </tr>\n",
       "  </tbody>\n",
       "</table>\n",
       "</div>"
      ],
      "text/plain": [
       "         Date     Group    País Province  Susceptible  Confirmed  Infected  \\\n",
       "16 2020-11-17  Stopping  España        -     15518442   31218340    226837   \n",
       "17 2020-11-18  Stopping  España        -     15503489   31233293    223767   \n",
       "18 2020-11-19  Stopping  España        -     15488752   31248030    220725   \n",
       "19 2020-11-20  Stopping  España        -     15474229   31262553    217711   \n",
       "20 2020-11-21  Stopping  España        -     15459916   31276866    214725   \n",
       "\n",
       "    Recovered  Deaths  \n",
       "16   30509631  481872  \n",
       "17   30526528  482998  \n",
       "18   30543196  484109  \n",
       "19   30559637  485205  \n",
       "20   30575854  486287  "
      ]
     },
     "execution_count": 32,
     "metadata": {},
     "output_type": "execute_result"
    }
   ],
   "source": [
    "ori_df = pd.DataFrame(\n",
    "    {\n",
    "        \"Date\": (df[\"t\"] * tau).apply(lambda x: timedelta(minutes=x)) + dia_inicial,\n",
    "        \"Group\": \"Stopping\",\n",
    "        \"País\": \"España\",\n",
    "        \"Province\": \"-\",\n",
    "        \"Susceptible\": 0,\n",
    "        \"Confirmed\": 0,\n",
    "        \"Infected\": (df[\"y\"] * poblacion).astype(np.int64)\n",
    "    }\n",
    ")\n",
    "ori_df[\"Recovered\"] = (df[\"z\"] * poblacion).astype(np.int64)\n",
    "ori_df[\"Deaths\"] = (df[\"w\"] * poblacion).astype(np.int64)\n",
    "ori_df[\"Confirmed\"] = ori_df[[\"Infected\", \"Recovered\", \"Deaths\"]].sum(axis=1)\n",
    "ori_df[\"Susceptible\"] = poblacion - ori_df[\"Confirmed\"]\n",
    "ori_df.tail()"
   ]
  },
  {
   "cell_type": "code",
   "execution_count": 33,
   "metadata": {},
   "outputs": [
    {
     "data": {
      "image/png": "[encoded data removed]",
      "text/plain": [
       "<Figure size 864x432 with 1 Axes>"
      ]
     },
     "metadata": {},
     "output_type": "display_data"
    },
    {
     "name": "stdout",
     "output_type": "stream",
     "text": [
      "El número total de fallecimientos es de: 486287\n",
      "Fallece un 1.04 % de la población\n"
     ]
    }
   ],
   "source": [
    "line_plot(\n",
    "    ori_df.set_index(\"Date\")[[\"Susceptible\", \"Infected\", \"Recovered\", \"Deaths\"]],\n",
    "    \"Modelo SIR-D desconfinando por edades -- fase 3, apertura total\",\n",
    "    h=poblacion,\n",
    "    y_integer=True\n",
    ")\n",
    "print(u'El número total de fallecimientos es de: {}'.format(ori_df['Deaths'].max()))\n",
    "print(u'Fallece un {} % de la población'.format(np.round((ori_df['Deaths'].max()/poblacion)*100,2)))"
   ]
  }
 ],
 "metadata": {
  "kernelspec": {
   "display_name": "Python 3",
   "language": "python",
   "name": "python3"
  },
  "language_info": {
   "codemirror_mode": {
    "name": "ipython",
    "version": 3
   },
   "file_extension": ".py",
   "mimetype": "text/x-python",
   "name": "python",
   "nbconvert_exporter": "python",
   "pygments_lexer": "ipython3",
   "version": "3.7.4"
  }
 },
 "nbformat": 4,
 "nbformat_minor": 2
}
